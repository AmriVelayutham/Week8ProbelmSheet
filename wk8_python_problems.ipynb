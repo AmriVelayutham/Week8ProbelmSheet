{
 "cells": [
  {
   "cell_type": "markdown",
   "id": "3215b090-8e7e-4083-a79f-c4dfd1d23eed",
   "metadata": {},
   "source": [
    "# Tutorial problems for Michaelmas term week 8\n",
    "\n",
    "This week the problems look at conditionals, logic, functions, the math module, and\n",
    "plotting. It's worth spending a bit of time looking at this before we meet again in\n",
    "week 1 of Hilary term. But please take some time to relax over the vacation.\n"
   ]
  },
  {
   "cell_type": "markdown",
   "id": "1656928d-bf59-4b8c-a2ab-854f05c03596",
   "metadata": {},
   "source": [
    "## Problem 15:\n",
    "\n",
    "Consider this code:\n",
    "```\n",
    "if 4 > 5:\n",
    "    print('A')\n",
    "elif 4 == 5:\n",
    "    print('B')\n",
    "elif 4 < 5:\n",
    "    print('C')\n",
    "```\n",
    "\n",
    "Which of the following would be printed if you were to run this code? Why did you pick this answer?\n",
    "\n",
    "1. A,\n",
    "2. B,\n",
    "3. C,\n",
    "4. B and C?"
   ]
  },
  {
   "cell_type": "markdown",
   "id": "2d4a9455-5d75-46ed-8cd5-828a5714bf5a",
   "metadata": {},
   "source": [
    "**Write down your answer here:**\n",
    "it will be c because 4 is less than 5\n"
   ]
  },
  {
   "cell_type": "code",
   "execution_count": 5,
   "id": "cfb85df7-b10b-4bfb-a887-553a6b8c5fc6",
   "metadata": {},
   "outputs": [
    {
     "name": "stdout",
     "output_type": "stream",
     "text": [
      "C\n"
     ]
    }
   ],
   "source": [
    "if 4 > 5:\n",
    "    print('A')\n",
    "elif 4 == 5:\n",
    "    print('B')\n",
    "elif 4 < 5:\n",
    "    print('C')\n"
   ]
  },
  {
   "cell_type": "markdown",
   "id": "d4513e4d-0657-4d88-a557-8bcdac2aa91f",
   "metadata": {},
   "source": [
    "## Problem 16:\n",
    "\n",
    "`True` and `False` booleans are not the only values in Python that are true \n",
    "and false. In fact, *any* value can be used in an `if` or `elif`. After reading \n",
    "and running the code below, explain what the rule is for which values are considered \n",
    "true and which are considered false.\n",
    "\n",
    "```\n",
    "if '':\n",
    "    print('empty string is true')\n",
    "if 'word':\n",
    "    print('word is true')\n",
    "if []:\n",
    "    print('empty list is true')\n",
    "if [1, 2, 3]:\n",
    "    print('non-empty list is true')\n",
    "if 0:\n",
    "    print('zero is true')\n",
    "if 1:\n",
    "    print('one is true')\n",
    "```\n"
   ]
  },
  {
   "cell_type": "code",
   "execution_count": 2,
   "id": "cbf4cf78-1807-4a23-89af-0a3fc19270c9",
   "metadata": {},
   "outputs": [
    {
     "name": "stdout",
     "output_type": "stream",
     "text": [
      "word is true\n",
      "non-empty list is true\n",
      "one is true\n"
     ]
    }
   ],
   "source": [
    "if '':\n",
    "    print('empty string is true')\n",
    "if 'word':\n",
    "    print('word is true')\n",
    "if []:\n",
    "    print('empty list is true')\n",
    "if [1, 2, 3]:\n",
    "    print('non-empty list is true')\n",
    "if 0:\n",
    "    print('zero is true')\n",
    "if 1:\n",
    "    print('one is true')"
   ]
  },
  {
   "cell_type": "markdown",
   "id": "7cfb88ca-27a9-4a06-9677-aa418e9844e5",
   "metadata": {},
   "source": [
    "**Write down your answer here, try to be a general as you can.**\n",
    "\n",
    "Empty things are false"
   ]
  },
  {
   "cell_type": "markdown",
   "id": "a02a4ca0-0a3a-4c22-81b2-09d0a0404eb1",
   "metadata": {},
   "source": [
    "## Problem 17.1:\n",
    "\n",
    "Python has 3 boolean operators: `and`, `or`, and `not`. Use the cell below to work out what they all do."
   ]
  },
  {
   "cell_type": "code",
   "execution_count": 1,
   "id": "e8d2747a-3089-477d-8603-0ca23c1ff6e2",
   "metadata": {},
   "outputs": [
    {
     "name": "stdout",
     "output_type": "stream",
     "text": [
      "True and True =  True\n",
      "True and False =  False\n",
      "False and False =  False\n",
      "True or True =  True\n",
      "True or False =  True\n",
      "False or False =  False\n",
      "not True  False\n",
      "not False  True\n"
     ]
    }
   ],
   "source": [
    "# Work out the solution here\n",
    "\n",
    "print('True and True = ', (True and True))\n",
    "print('True and False = ', (True and False))\n",
    "print('False and False = ', (False and False))\n",
    "print('True or True = ', (True or True))\n",
    "print('True or False = ', (True or False))\n",
    "print('False or False = ', (False or False))\n",
    "print('not True ', (not True))\n",
    "print('not False ', (not False))"
   ]
  },
  {
   "cell_type": "markdown",
   "id": "201bf68d-1394-468a-8d6f-0443d28ff7d7",
   "metadata": {},
   "source": [
    "**Explain what happens here:**\n",
    "\n",
    "They work like logic gates"
   ]
  },
  {
   "cell_type": "markdown",
   "id": "2abb1f58-b0ff-40df-a57f-3ce66f188084",
   "metadata": {},
   "source": [
    "## Problem 17.2:\n",
    "\n",
    "Parentheses can be used to combine boolean operators like this:\n",
    "\n",
    "```\n",
    "False and (False or True)\n",
    "```\n",
    "\n",
    "Can you use to following code to explain the rules for combining boolean operators with and without parentheses?\n"
   ]
  },
  {
   "cell_type": "code",
   "execution_count": 2,
   "id": "fd3139ce-6568-4073-a6dd-c7264ad5140a",
   "metadata": {},
   "outputs": [
    {
     "name": "stdout",
     "output_type": "stream",
     "text": [
      "`False and False or True` is: True\n",
      "`False and (False or True)` is: False\n",
      "`(False and False) or True` is: True\n",
      "`True or False and False` is: True\n",
      "`True or (False and False)` is: True\n",
      "`(True or False) and False` is: False\n"
     ]
    }
   ],
   "source": [
    "print(\"`False and False or True` is:\", False and False or True)\n",
    "print(\"`False and (False or True)` is:\", False and (False or True))\n",
    "print(\"`(False and False) or True` is:\", (False and False) or True)\n",
    "print(\"`True or False and False` is:\", True or False and False)\n",
    "print(\"`True or (False and False)` is:\", True or (False and False))\n",
    "print(\"`(True or False) and False` is:\", (True or False) and False)"
   ]
  },
  {
   "cell_type": "markdown",
   "id": "232ca49f-9d55-43d5-9110-3daf04fc8bb8",
   "metadata": {},
   "source": [
    "**Explain what happens here:**\n",
    "Expression is evaluated from left to right like an arithmetic expression. Order of precedence is brackets, then and, then or.\n"
   ]
  },
  {
   "cell_type": "markdown",
   "id": "5f61f088-bb49-4b42-88a1-424b92983b73",
   "metadata": {},
   "source": [
    "## Problem 18:\n",
    "\n",
    "Write some conditions that print True if the variable `a` is within 10% of \n",
    "the variable `b` and False otherwise. Compare your implementation with \n",
    "the person sat next to you: do you get the same answer for all possible \n",
    "pairs of numbers?\n",
    "\n",
    "*Hint:* you may want to use the `abs()` function. This returns the absolute value of a number,\n",
    "for example both `abs(4.1)` and `abs(-4.1)` are `4.1`."
   ]
  },
  {
   "cell_type": "code",
   "execution_count": 6,
   "id": "b24e6fa5-2256-4066-a8d8-f1a334d239dc",
   "metadata": {},
   "outputs": [
    {
     "name": "stdout",
     "output_type": "stream",
     "text": [
      "False\n",
      "False1\n"
     ]
    }
   ],
   "source": [
    "# Create your answers here by finishing the code\n",
    "\n",
    "a = 5\n",
    "b = 5.6\n",
    "\n",
    "if b*0.9<a<b*1.1:\n",
    "    print('True')\n",
    "else:\n",
    "    print('False')\n",
    "    \n",
    "\n",
    "#Using the difference between a and b,\n",
    "\n",
    "if abs(a-b)<abs(b)*0.1:\n",
    "    print('True1')\n",
    "else:\n",
    "    print('False1')"
   ]
  },
  {
   "cell_type": "markdown",
   "id": "d0165eda-a042-440e-806d-02097e141603",
   "metadata": {},
   "source": [
    "## Problem 19:\n",
    "\n",
    "Python (and most other languages in the C family) provides in-place operators that work like this \n",
    "(which prints `6`):\n",
    "\n",
    "```\n",
    "x = 1  # original value\n",
    "x += 1 # add one to x, assigning result back to x\n",
    "x *= 3 # multiply x by 3\n",
    "print(x)\n",
    "```\n",
    "\n",
    "Write some code that sums the positive and negative numbers in a list separately, \n",
    "using in-place operators. Do you think the result is more or less readable than writing \n",
    "the same without in-place operators?"
   ]
  },
  {
   "cell_type": "code",
   "execution_count": 10,
   "id": "a096f2c7-41a7-45ad-a963-7293708f3e3b",
   "metadata": {},
   "outputs": [
    {
     "name": "stdout",
     "output_type": "stream",
     "text": [
      "Sum of positive numbers is  50\n",
      "Sum of negative numbers is  -4\n"
     ]
    }
   ],
   "source": [
    "# Create your answers here by finishing the code\n",
    "\n",
    "list_of_numbers = [10, -1, 11, -2, 9, -1, 12, 8]\n",
    "\n",
    "pos_numbers_sum = 0\n",
    "neg_numbers_sum = 0\n",
    "\n",
    "for num in list_of_numbers:\n",
    "    if num>0:\n",
    "        pos_numbers_sum += num\n",
    "    else:\n",
    "        neg_numbers_sum += num\n",
    "#did not use elif because no zero in list\n",
    "print('Sum of positive numbers is ', pos_numbers_sum)\n",
    "print('Sum of negative numbers is ',neg_numbers_sum)\n"
   ]
  },
  {
   "cell_type": "code",
   "execution_count": 11,
   "id": "6cdb2c16-8290-4e1b-99fd-299248c9abb9",
   "metadata": {},
   "outputs": [
    {
     "name": "stdout",
     "output_type": "stream",
     "text": [
      "Sum of positive numbers is1  50\n",
      "Sum of negative numbers is1  -4\n"
     ]
    }
   ],
   "source": [
    "# Create your answers here by finishing the code\n",
    "\n",
    "list_of_numbers = [10, -1, 11, -2, 9, -1, 12, 8]\n",
    "\n",
    "pos_numbers_sum = 0\n",
    "neg_numbers_sum = 0\n",
    "\n",
    "#Without operator +=,\n",
    "\n",
    "for num in list_of_numbers:\n",
    "    if num>0:\n",
    "        pos_numbers_sum = pos_numbers_sum +num\n",
    "    else:\n",
    "        neg_numbers_sum =neg_numbers_sum + num\n",
    "        \n",
    "        \n",
    "print('Sum of positive numbers is1 ', pos_numbers_sum)\n",
    "print('Sum of negative numbers is1 ',neg_numbers_sum)\n"
   ]
  },
  {
   "cell_type": "markdown",
   "id": "5a001ba9-eee5-4dd1-9d4b-18c66ce1c7e6",
   "metadata": {},
   "source": [
    "## Problem 20:\n",
    "\n",
    "\n",
    "Imagine we have a set of file names in a list, normal data sets from surveys are stored in files whose names start with \"survey-\" and small data sets with only one survey line in files whose names start with \"line-\". We also have some other files that we do not care about at this point. We would like to break  these files into three lists called large_files, small_files, and other_files, respectively.\n",
    "\n",
    "Add code to the template below to do this. Note that the string method `startswith` returns `True` if and only if the string it is called on starts with the string passed as an argument, that is:\n",
    "\n",
    "```\n",
    "\"String\".startswith(\"Str\")\n",
    "```\n",
    "\n",
    "returns `True`, but:\n",
    "\n",
    "```\n",
    "\"String\".startswith(\"str\")\n",
    "```\n",
    "\n",
    "returns `False`.\n",
    "\n",
    "Use the following Python code as your starting point:\n",
    "\n",
    "```\n",
    "files = ['survey-01.csv',\n",
    "         'README.md',\n",
    "         'survey-02.csv',\n",
    "         'line-01.csv',\n",
    "         'line-02.csv']\n",
    "normal_file = []\n",
    "line_files = []\n",
    "other_files = []\n",
    "```\n",
    "\n",
    "Your solution should:\n",
    "\n",
    "1. loop over the names of the files\n",
    "2. figure out which group each filename belongs\n",
    "3. append the filename to that list\n",
    "\n",
    "In the end the three lists should be:\n",
    "\n",
    "```\n",
    "large_files = ['survey-01.csv', 'survey-02.csv']\n",
    "small_files = ['line-01.csv', 'line-02.csv']\n",
    "other_files = ['README.md']\n",
    "```\n"
   ]
  },
  {
   "cell_type": "code",
   "execution_count": 15,
   "id": "e23f6e05-a46e-42ec-af38-237ebf1bd270",
   "metadata": {},
   "outputs": [
    {
     "name": "stdout",
     "output_type": "stream",
     "text": [
      "large_files= ['survey-01.csv', 'survey-02.csv']\n",
      "small_files= ['line-01.csv', 'line-02.csv']\n",
      "other_files= ['README.md']\n"
     ]
    }
   ],
   "source": [
    "# Write your code here\n",
    "\n",
    "files = ['survey-01.csv',\n",
    "         'README.md',\n",
    "         'survey-02.csv',\n",
    "         'line-01.csv',\n",
    "         'line-02.csv']\n",
    "\n",
    "normal_files = []\n",
    "line_files = []\n",
    "other_files = []\n",
    "\n",
    "for file in files:\n",
    "    if file.startswith(\"survey-\"):\n",
    "        normal_files.append(file)\n",
    "    elif file.startswith(\"line-\"):\n",
    "        line_files.append(file)\n",
    "    else:\n",
    "        other_files.append(file)\n",
    "                       \n",
    "        \n",
    "print('large_files=', normal_files)\n",
    "print('small_files=', line_files)\n",
    "print('other_files=',other_files)"
   ]
  },
  {
   "cell_type": "markdown",
   "id": "d240c65c-601b-4e81-a267-e0df5256468f",
   "metadata": {},
   "source": [
    "## Problem 21\n",
    "\n",
    "1. Write a loop that counts the number of vowels in a character string.\n",
    "2. Test it on a few individual words and full sentences.\n"
   ]
  },
  {
   "cell_type": "code",
   "execution_count": 19,
   "id": "6a7ee113-07d4-4f23-88ea-5775feb48049",
   "metadata": {},
   "outputs": [
    {
     "name": "stdout",
     "output_type": "stream",
     "text": [
      "Number of vowels in word is  2\n"
     ]
    }
   ],
   "source": [
    "# Write your code here\n",
    "word = 'butterfly'\n",
    "vowels = ['a', 'e', 'i', 'o', 'u']\n",
    "\n",
    "vow_list=[]\n",
    "\n",
    "for character in word:\n",
    "    if character in vowels:\n",
    "        vow_list.append(character) \n",
    "\n",
    "print('Number of vowels in word is ',len(vow_list))\n",
    "        \n"
   ]
  },
  {
   "cell_type": "code",
   "execution_count": 20,
   "id": "ef3e3773-2eeb-41bf-b3cc-efadf1e96e3b",
   "metadata": {},
   "outputs": [
    {
     "name": "stdout",
     "output_type": "stream",
     "text": [
      "Number of vowels in word is  5\n"
     ]
    }
   ],
   "source": [
    "# Write your code here\n",
    "word = 'rhinoceroses'\n",
    "vowels = ['a', 'e', 'i', 'o', 'u']\n",
    "\n",
    "vow_list=[]\n",
    "\n",
    "for character in word:\n",
    "    if character in vowels:\n",
    "        vow_list.append(character) \n",
    "\n",
    "print('Number of vowels in word is ',len(vow_list))\n",
    "        \n"
   ]
  },
  {
   "cell_type": "markdown",
   "id": "26a2e755-2a88-4e08-b830-e626fb4ee7f6",
   "metadata": {},
   "source": [
    "## Problem 22\n",
    "\n",
    "\"Adding\" two strings produces their concatenation: `'a' + 'b'` is `'ab'`. Write a function called `fence` that takes two parameters called original and wrapper and returns a new string that has the wrapper character at the beginning and end of the original. A call to your function should look like this:\n",
    "\n",
    "```\n",
    "print(fence('name', '*'))\n",
    "```\n",
    "\n",
    "Which would print out:\n",
    "\n",
    "```\n",
    "*name*\n",
    "```\n"
   ]
  },
  {
   "cell_type": "code",
   "execution_count": 2,
   "id": "fc1cccdb-8020-4cc8-91b5-7958ff6ee119",
   "metadata": {},
   "outputs": [
    {
     "name": "stdout",
     "output_type": "stream",
     "text": [
      "wrapperoriginalwrapper\n"
     ]
    }
   ],
   "source": [
    "# Write your code here\n",
    "def fence ( original, wrapper ):\n",
    "  return wrapper+original+wrapper\n",
    "        \n",
    "\n",
    "print(fence('original','wrapper'))"
   ]
  },
  {
   "cell_type": "markdown",
   "id": "f1ba2504-52c8-4553-87c6-0bf7fa403ae5",
   "metadata": {},
   "source": [
    "## Problem 23\n",
    "\n",
    "Note that `return` and `print` are not interchangeable. `print` is a Python function that prints data to the screen. It enables us, users, to see the data. The `return` statement, on the other hand, makes data visible to the program. Have a look at the following function:\n",
    "\n",
    "```\n",
    "def add(a, b):\n",
    "    print(a + b)\n",
    "```\n",
    "\n",
    "What will we see if we execute the following commands?\n",
    "\n",
    "```\n",
    "A = add(7, 3)\n",
    "print(A)\n",
    "```\n"
   ]
  },
  {
   "cell_type": "code",
   "execution_count": 4,
   "id": "e28fa366-90c5-4017-b65c-442e8ac5e57d",
   "metadata": {},
   "outputs": [
    {
     "name": "stdout",
     "output_type": "stream",
     "text": [
      "10\n",
      "None\n"
     ]
    }
   ],
   "source": [
    "# Work out the solution here\n",
    "\n",
    "def add(a, b):\n",
    "    print(a + b)\n",
    "\n",
    "A = add(7, 3)\n",
    "print(A)\n",
    "    "
   ]
  },
  {
   "cell_type": "code",
   "execution_count": 5,
   "id": "9475516c-02a7-409e-aed3-a497a6f32d1d",
   "metadata": {},
   "outputs": [
    {
     "name": "stdout",
     "output_type": "stream",
     "text": [
      "10\n"
     ]
    }
   ],
   "source": [
    "def add(a, b):\n",
    "    return(a + b)\n",
    "\n",
    "A = add(7, 3)\n",
    "print(A)\n",
    "    "
   ]
  },
  {
   "cell_type": "markdown",
   "id": "6cb75ecb-2583-4d76-9c49-cc1d6ea2d802",
   "metadata": {},
   "source": [
    "**Explain what happens here:**\n",
    "\n",
    "First cell:\n",
    "\n",
    "def add(a, b): print(a + b)\n",
    "\n",
    "A = add(7, 3) print(A)\n",
    "\n",
    "Here, no return statement in function, so print(a+b) gives 10 and print(A) gives None as a default since I have called a function that has no return statement\n",
    "\n",
    "Second cell:\n",
    "\n",
    "def add(a, b): return(a + b)\n",
    "\n",
    "A = add(7, 3) print(A)\n",
    "\n",
    "Here there is a return statement so the function returns the sum of my numbers"
   ]
  },
  {
   "cell_type": "markdown",
   "id": "4da7e64d-9fd0-498e-a9c7-f8f467a3df98",
   "metadata": {},
   "source": [
    "## Problem 24:\n",
    "\n",
    "If the variable `s` refers to a string, then `s[0]` is the string’s first character and `s[-1]` is its last. Write a function called `outer` that returns a string made up of just the first and last characters of its input. A call to your function should look like this:\n",
    "\n",
    "```\n",
    "print(outer('helium'))\n",
    "```\n",
    "\n",
    "Which would print:\n",
    "\n",
    "```\n",
    "hm\n",
    "```"
   ]
  },
  {
   "cell_type": "code",
   "execution_count": 6,
   "id": "dfbbc403-a5aa-4301-8ddb-80aab6e1a78d",
   "metadata": {},
   "outputs": [
    {
     "name": "stdout",
     "output_type": "stream",
     "text": [
      "hm\n"
     ]
    }
   ],
   "source": [
    "# Write your solution here\n",
    "def outer(s):\n",
    "    return s[0]+s[-1]\n",
    "\n",
    "print(outer('helium'))\n"
   ]
  },
  {
   "cell_type": "markdown",
   "id": "eae060ae-8c6f-4b39-ae8e-a6fa03546ddd",
   "metadata": {
    "tags": []
   },
   "source": [
    "# Introducing the `math` module\n",
    "\n",
    "You have previously seen that you can perform many simple mathamatical operations in python using\n",
    "operators such as `+`, `*` and `**`. However, there are many other mathamatical functions, such as $\\sin(\\theta)$\n",
    "or $\\sqrt{x}$, which are not easily represented using just these operators. Python gives you access to a large\n",
    "number of these mathamatical functions (as well as some useful constants and other tools) in the `math` module.\n",
    "The first set of exerciese this week are designed to help you explore the `math` module. In the future, you may\n",
    "find that you need to use functions that are not covered here. A full list can be found in the python documentation\n",
    "at https://docs.python.org/3/library/math.html."
   ]
  },
  {
   "cell_type": "markdown",
   "id": "1665e193-6ca0-4967-85f0-c49bddf79108",
   "metadata": {},
   "source": [
    "## Problem 25:\n",
    "\n",
    "In the cell below, load the math module. You may want to save yourself some typing later by calling the module `m`\n",
    "inside this notebook.\n",
    "\n",
    "*Remember, if you restart the notebook for any reason you will need to re-run this cell before anything else using math will work*."
   ]
  },
  {
   "cell_type": "code",
   "execution_count": 7,
   "id": "d918dae4-da65-4823-a493-e9a94818adc5",
   "metadata": {
    "tags": []
   },
   "outputs": [],
   "source": [
    "# Run your code here\n",
    "import math as m"
   ]
  },
  {
   "cell_type": "markdown",
   "id": "4a085ea6-253d-428b-9e60-93ce3f74fdf0",
   "metadata": {},
   "source": [
    "## Problem 26:\n",
    "\n",
    "You may remember that it is possible to calculate the seismic P-wave velocity ($V_p$) and the sesimic S-wave velocity ($V_s$) from the density ($\\rho$) and elastic properties (bulk modulus, $K$, and shear modulus, $\\mu$) of a material. The equations are:\n",
    "$$V_p = \\sqrt{\\frac{K + 4/3 \\mu}{\\rho}}$$\n",
    "and\n",
    "$$V_s = \\sqrt{\\frac{\\mu}{\\rho}}.$$\n",
    "In the center of the Earth, the values of $K$, $\\mu$ and $\\rho$ are approximatly $1425.3\\times10^9$ Pa, $176.1\\times10^9$ Pa and $13.09\\times10^3$ kg/m$^3$. In the cell below, use python to calculate the P- and S-wave velocities.\n",
    "\n",
    "*Note: in python you can write $176.1\\times10^9$ as `176.1E9`*"
   ]
  },
  {
   "cell_type": "code",
   "execution_count": 9,
   "id": "3f00c2f6-c23b-44fe-9cc9-567d507f4f8b",
   "metadata": {},
   "outputs": [
    {
     "name": "stdout",
     "output_type": "stream",
     "text": [
      "P-wave velocity is 11261.527495321578 m/s\n",
      "S-wave velocity is 3667.835543023246 m/s\n"
     ]
    }
   ],
   "source": [
    "# Write code to run your calculations here\n",
    "\n",
    "K = 1425.3E9 # Pa\n",
    "mu = 176.1E9 # Pa\n",
    "rho = 13.09E3 # kg/m^3\n",
    "V_p = m.sqrt((K+ (4/3)*mu)/rho)\n",
    "V_s = m.sqrt (mu/rho)\n",
    "\n",
    "print('P-wave velocity is', V_p ,'m/s')\n",
    "      \n",
    "print('S-wave velocity is', V_s, 'm/s')\n",
    "# Make sure you track your units. "
   ]
  },
  {
   "cell_type": "markdown",
   "id": "74fc4b02-1397-4f66-8705-d553060b981d",
   "metadata": {},
   "source": [
    "## Problem 27:\n",
    "\n",
    "We often work in different units... just above the core-mantle boundary the values of $K$, $\\mu$ and $\\rho$ are approximatly $655.6$ GPa, $293.8$ GPa and $5.57$ g/cc. Calculate Vp and Vs here and report them in km/s, converting units in python and keeping track of units as comments."
   ]
  },
  {
   "cell_type": "code",
   "execution_count": 11,
   "id": "0fd152af-7d94-463d-b65f-dfb92a6a2f6a",
   "metadata": {},
   "outputs": [
    {
     "name": "stdout",
     "output_type": "stream",
     "text": [
      "P-wave velocity at CMB is 13.71244395030897 km/s\n",
      "S-wave velocity at CMB is 7.262703227363846 km/s\n"
     ]
    }
   ],
   "source": [
    "# Run your calculations here\n",
    "\n",
    "K1 = 655.6 # GPa\n",
    "mu1 = 293.8 # GPa\n",
    "rho1 =  5.57 # g/cc\n",
    "\n",
    "K = K1*1E9 # Pa\n",
    "mu = mu*1E9 # Pa\n",
    "rho = rho1*1E3 # kg/m^3\n",
    "\n",
    "V_p = m.sqrt((K+ (4/3)*mu)/rho)/1000 #km/s\n",
    "V_s = m.sqrt (mu/rho)/1000 #km/s\n",
    "\n",
    "\n",
    "print('P-wave velocity at CMB is', V_p ,'km/s')\n",
    "      \n",
    "print('S-wave velocity at CMB is', V_s, 'km/s')\n",
    "\n",
    "\n"
   ]
  },
  {
   "cell_type": "code",
   "execution_count": 12,
   "id": "9ecdf6d8-ccf0-43db-a1cb-8adda51285a9",
   "metadata": {},
   "outputs": [
    {
     "name": "stdout",
     "output_type": "stream",
     "text": [
      "P-wave velocity at CMB is 13712.443950308969 km/s\n",
      "S-wave velocity at CMB is 7262.703227363845 km/s\n"
     ]
    }
   ],
   "source": [
    "#Question: why doesn't this work\n",
    "K = 655.6 # GPa\n",
    "mu = 293.8 # GPa\n",
    "rho =  5.57 # g/cc\n",
    "\n",
    "V_p = m.sqrt((K*1E9+ (4/3)*(mu*1E9))/rho*1E3)/1000\n",
    "V_s = m.sqrt (mu*1E9/rho*1E3)/1000\n",
    "\n",
    "\n",
    "\n",
    "print('P-wave velocity at CMB is', V_p ,'km/s')\n",
    "      \n",
    "print('S-wave velocity at CMB is', V_s, 'km/s')"
   ]
  },
  {
   "cell_type": "markdown",
   "id": "2e53deed-9cd5-4926-b5e4-e3b74aef30fe",
   "metadata": {},
   "source": [
    "## Problem 28.1:\n",
    "\n",
    "Most programming languages, including python, use radians for trigonometric functions. The `math` module\n",
    "includes the constant `math.pi`, which can be used to convert between radians and degrees. Use the \n",
    "`math.pi` constant and functions like `math.sin()` to print the sine, cosine and tangent of 30 degrees."
   ]
  },
  {
   "cell_type": "code",
   "execution_count": 14,
   "id": "1b7928f2-a681-495b-bb9f-50f6bc856880",
   "metadata": {},
   "outputs": [
    {
     "name": "stdout",
     "output_type": "stream",
     "text": [
      "sin is 0.49999999999999994\n",
      "cos is 0.8660254037844387\n",
      "tan is 0.5773502691896257\n"
     ]
    }
   ],
   "source": [
    "# Run your calculations here\n",
    "sin_value= m.sin(30*m.pi/180)\n",
    "cos_value= m.cos(30*m.pi/180)\n",
    "tan_value= m.tan(30*m.pi/180)\n",
    "\n",
    "print('sin is',sin_value)\n",
    "print('cos is',cos_value)\n",
    "print('tan is',tan_value)"
   ]
  },
  {
   "cell_type": "markdown",
   "id": "994b338c-a540-449a-a723-e2003e6c30b2",
   "metadata": {},
   "source": [
    "## Problem 28.2:\n",
    "The math module also includes the functions `math.radians()` and `math.degrees()` which convert from degrees to radians and radians to degrees, respectivly. Repeat problem 28.1 but use one of these functions to do the conversion."
   ]
  },
  {
   "cell_type": "code",
   "execution_count": 15,
   "id": "9e240d5f-0cae-41b3-a547-bf73afb72a9d",
   "metadata": {},
   "outputs": [
    {
     "name": "stdout",
     "output_type": "stream",
     "text": [
      "sin is 0.49999999999999994\n",
      "cos is 0.8660254037844387\n",
      "tan is 0.5773502691896257\n"
     ]
    }
   ],
   "source": [
    "# Run your calculations here\n",
    "sin_value= m.sin(m.radians(30))\n",
    "cos_value= m.cos(m.radians(30))\n",
    "tan_value= m.tan(m.radians(30))\n",
    "\n",
    "print('sin is',sin_value)\n",
    "print('cos is',cos_value)\n",
    "print('tan is',tan_value)"
   ]
  },
  {
   "cell_type": "markdown",
   "id": "9813e66f-b28b-447d-8b63-8e046aaad0d8",
   "metadata": {},
   "source": [
    "## Problem 28.3:\n",
    "\n",
    "Do the inverse of problem 28.2 (e.g. calculate the inverse of the sine of 0.5 in degrees)."
   ]
  },
  {
   "cell_type": "code",
   "execution_count": 16,
   "id": "03392ae3-7cd9-44d5-a09d-844d4768387c",
   "metadata": {},
   "outputs": [
    {
     "name": "stdout",
     "output_type": "stream",
     "text": [
      "30.000000000000004\n"
     ]
    }
   ],
   "source": [
    "# Run your calculations here\n",
    "\n",
    "inverse_sin = m.degrees(m.asin(0.5))\n",
    "print(inverse_sin)"
   ]
  },
  {
   "cell_type": "markdown",
   "id": "33a9fd5e-21a7-46e5-be8c-fc511bad3fa8",
   "metadata": {},
   "source": [
    "## Problem 29:\n",
    "\n",
    "Use the `math` module documentation to work out how to calculate $\\ln(10)$, $\\log_{10}(10)$ and $\\log_5(10)$. "
   ]
  },
  {
   "cell_type": "code",
   "execution_count": 17,
   "id": "68c4f136-a154-4d39-b8ef-79a81d13f972",
   "metadata": {},
   "outputs": [
    {
     "name": "stdout",
     "output_type": "stream",
     "text": [
      "1.0\n",
      "1.0\n",
      "2.302585092994046\n",
      "1.4306765580733933\n"
     ]
    }
   ],
   "source": [
    "# Run your calculations here\n",
    "\n",
    "base_ten = m.log(10,10)\n",
    "bas_ten= m.log10(10)\n",
    "natural_log=m.log(10)\n",
    "base_five=m.log(10,5)\n",
    "\n",
    "print(base_ten)\n",
    "print(bas_ten)\n",
    "print(natural_log)\n",
    "print(base_five)"
   ]
  },
  {
   "cell_type": "markdown",
   "id": "108117b4-bfb4-4c18-9006-8e89c61483cc",
   "metadata": {},
   "source": [
    "## Problem 30:\n",
    "\n",
    "You may have noticed that some solutions above are not exact. For example the $\\sin(30)$ should be exactly 0.5, and $\\arcsin(0.5)$ should be exactly 30 degrees. Speculate why these roundoff errors exist in python."
   ]
  },
  {
   "cell_type": "markdown",
   "id": "238efd4b-0e00-4db4-909a-abc6fc58c369",
   "metadata": {},
   "source": [
    "**Speculate here!**\n",
    "\n",
    "It is probably something to do with limitations in floating-point numbers as everything is being represented in base-2.\n",
    "Just like how we can't actually represent 1/3 in base-10 without an infinite amount of 3 in 0.33333333..., there are likely some numbers in base-2 that infinitely repeat, but the computer does not have enough bits to accommodate that so it gives us an approximation."
   ]
  },
  {
   "cell_type": "markdown",
   "id": "ab1625ea-bf22-474b-899e-13411441f118",
   "metadata": {},
   "source": [
    "# Counting and sorting with loops and conditionals\n",
    "\n",
    "The next few problems provide a chance to practice using loops and conditionals together.  "
   ]
  },
  {
   "cell_type": "markdown",
   "id": "bbf97ce6-51a4-4191-a6db-9950ed21d80c",
   "metadata": {},
   "source": [
    "## Problem 31.1:\n",
    "\n",
    "You are provided with a list of numbers. Write a loop to count the number of odd numbers in the list. The final line should report the number of odd numbers. It is useful to know that `n%2` will be equal to 0 if `n` is an even number, and `n%2` will be equal to 1 if `n` is an odd number.\n"
   ]
  },
  {
   "cell_type": "code",
   "execution_count": 20,
   "id": "0df41f15-6e17-4a70-b758-61a2dcc96554",
   "metadata": {},
   "outputs": [
    {
     "name": "stdout",
     "output_type": "stream",
     "text": [
      "5 odd numbers found\n"
     ]
    }
   ],
   "source": [
    "numbers = [1, 7, 2, 3, 10, 101, 200, 300, 400, 2001]\n",
    "count = 0\n",
    "\n",
    "# Write your loop here\n",
    "for n in numbers:\n",
    "    if n%2==1:\n",
    "        count+=1\n",
    "    else:\n",
    "        next\n",
    "\n",
    "\n",
    "print(count, \"odd numbers found\")"
   ]
  },
  {
   "cell_type": "markdown",
   "id": "5993aceb-5e0a-4b70-a559-9f774936693f",
   "metadata": {},
   "source": [
    "## Problem 31.2:\n",
    "\n",
    "Rewrite the loop above to count even numbers."
   ]
  },
  {
   "cell_type": "code",
   "execution_count": 21,
   "id": "aa6c0822-526e-46c4-a31a-2e14bf702bb7",
   "metadata": {},
   "outputs": [
    {
     "name": "stdout",
     "output_type": "stream",
     "text": [
      "5 even numbers found\n"
     ]
    }
   ],
   "source": [
    "numbers = [1, 7, 2, 3, 10, 101, 200, 300, 400, 2001]\n",
    "count = 0\n",
    "\n",
    "# Write your loop here\n",
    "for n in numbers:\n",
    "    if n%2==0:\n",
    "        count+=1\n",
    "    else:\n",
    "        next\n",
    "\n",
    "\n",
    "print(count, \"even numbers found\")"
   ]
  },
  {
   "cell_type": "markdown",
   "id": "d4a695ca-aa2b-410e-ab48-5291367f481d",
   "metadata": {},
   "source": [
    "## Problem 31.3:\n",
    "\n",
    "Now count the number of odd numbers and the number of even numbers within the same loop"
   ]
  },
  {
   "cell_type": "code",
   "execution_count": 23,
   "id": "d59a4873-b63a-41a1-88c9-cced21c19553",
   "metadata": {
    "tags": []
   },
   "outputs": [
    {
     "name": "stdout",
     "output_type": "stream",
     "text": [
      "5 even numbers found\n",
      "5 odd numbers found\n"
     ]
    }
   ],
   "source": [
    "numbers = [1, 7, 2, 3, 10, 101, 200, 300, 400, 2001]\n",
    "odd_count = 0\n",
    "even_count = 0\n",
    "\n",
    "# Write your loop here\n",
    "\n",
    "for n in numbers:\n",
    "    if n%2==0:\n",
    "        even_count+=1\n",
    "    elif n%2==1:\n",
    "        odd_count+=1\n",
    "print(even_count, \"even numbers found\")\n",
    "print(odd_count, \"odd numbers found\")"
   ]
  },
  {
   "cell_type": "markdown",
   "id": "eda98777-cc1c-49f3-9b04-5e518dfbc9cc",
   "metadata": {},
   "source": [
    "## Problem 31.4:\n",
    "\n",
    "In the cell below try to write a general rule for counting things."
   ]
  },
  {
   "cell_type": "markdown",
   "id": "5ce0b1ae-44ad-4d46-92e3-7fc600ca03f2",
   "metadata": {},
   "source": [
    "**Your explanation here.**\n",
    "First, set counts to 0.\n",
    "Then, create a loop that iterates through each n in the list, applying a condition to each n, and adding 1 to count for each n that passes the condition."
   ]
  },
  {
   "cell_type": "markdown",
   "id": "a5a16ece-ade8-493d-80fb-4e63ecb15e42",
   "metadata": {},
   "source": [
    "## Problem 32.1:\n",
    "\n",
    "We can also use loops and conditionals to create a list that is a subset of a list. To do this we use `.append(n)` to \n",
    "put the value of `n` at the end of a list (which starts off being empty). In the cell below write a loop to \n",
    "fill `odd_numbers` with the odd numbers from the `numbers` list."
   ]
  },
  {
   "cell_type": "code",
   "execution_count": 24,
   "id": "20570f85-aded-4537-8a8a-1e9c9dbef847",
   "metadata": {},
   "outputs": [
    {
     "name": "stdout",
     "output_type": "stream",
     "text": [
      "odd numbers found are: [1, 7, 3, 101, 2001]\n"
     ]
    }
   ],
   "source": [
    "numbers = [1, 7, 2, 3, 10, 101, 200, 300, 400, 2001]\n",
    "odd_numbers = []\n",
    "\n",
    "# Write your loop here\n",
    "for n in numbers :\n",
    "    if n%2==1:\n",
    "        odd_numbers.append(n)\n",
    "print(\"odd numbers found are:\", odd_numbers)"
   ]
  },
  {
   "cell_type": "markdown",
   "id": "6c15363c-9c97-4489-bb69-401358476fa4",
   "metadata": {
    "tags": []
   },
   "source": [
    "## Problem 32.2:\n",
    "\n",
    "Rewrite the loop above to fill `even_numbers` with the even numbers."
   ]
  },
  {
   "cell_type": "code",
   "execution_count": 25,
   "id": "c4293b8d-205a-4341-8c1f-17dd0abf9c52",
   "metadata": {},
   "outputs": [
    {
     "name": "stdout",
     "output_type": "stream",
     "text": [
      "even numbers found are: [2, 10, 200, 300, 400]\n"
     ]
    }
   ],
   "source": [
    "numbers = [1, 7, 2, 3, 10, 101, 200, 300, 400, 2001]\n",
    "even_numbers = []\n",
    "\n",
    "# Write your loop here\n",
    "for n in numbers :\n",
    "    if n%2==0:\n",
    "        even_numbers.append(n)\n",
    "print(\"even numbers found are:\", even_numbers)"
   ]
  },
  {
   "cell_type": "markdown",
   "id": "084ef191-6861-4564-b135-b235f14494bb",
   "metadata": {},
   "source": [
    "## Problem 32.3:\n",
    "\n",
    "Now rewrite the loop to fill `even_numbers` and `odd_number` at the same time"
   ]
  },
  {
   "cell_type": "code",
   "execution_count": 27,
   "id": "b1c1d4ba-6b3a-401e-a25f-08af563ae7e6",
   "metadata": {},
   "outputs": [
    {
     "name": "stdout",
     "output_type": "stream",
     "text": [
      "even numbers found are: [2, 10, 200, 300, 400]\n",
      "odd numbers found are: [1, 7, 3, 101, 2001]\n"
     ]
    }
   ],
   "source": [
    "numbers = [1, 7, 2, 3, 10, 101, 200, 300, 400, 2001]\n",
    "even_numbers = []\n",
    "odd_numbers = []\n",
    "\n",
    "# Write your loop here\n",
    "for n in numbers :\n",
    "    if n%2==0:\n",
    "        even_numbers.append(n)\n",
    "    elif n%2==1:\n",
    "        odd_numbers.append(n)\n",
    "print(\"even numbers found are:\", even_numbers)\n",
    "print(\"odd numbers found are:\", odd_numbers)"
   ]
  },
  {
   "cell_type": "markdown",
   "id": "8ae4bae3-a8d8-4b4c-bfd2-9fd7eac0aab6",
   "metadata": {
    "tags": []
   },
   "source": [
    "## Problem 32.4:\n",
    "\n",
    "There are two ways to count the number of things we find, at the same time as sorting them into subsets. We can either check the length of the list at the end, or we can count as we find each number. In the two cells below, demonstrate both methods."
   ]
  },
  {
   "cell_type": "code",
   "execution_count": 30,
   "id": "371612c5-3625-40ef-bf25-d75ce81d0a19",
   "metadata": {},
   "outputs": [
    {
     "name": "stdout",
     "output_type": "stream",
     "text": [
      "5 even numbers found. They are: [2, 10, 200, 300, 400]\n",
      "5 odd numbers found. They are: [1, 7, 3, 101, 2001]\n"
     ]
    }
   ],
   "source": [
    "numbers = [1, 7, 2, 3, 10, 101, 200, 300, 400, 2001]\n",
    "even_numbers = []\n",
    "odd_numbers = []\n",
    "count_odds = 0\n",
    "count_evens = 0\n",
    "\n",
    "# Write your loop here\n",
    "for n in numbers :\n",
    "    if n%2==0:\n",
    "        even_numbers.append(n)\n",
    "        count_evens+=1\n",
    "    elif n%2==1:\n",
    "        odd_numbers.append(n)\n",
    "        count_odds+=1\n",
    "print(count_evens, \"even numbers found. They are:\", even_numbers)\n",
    "print(count_odds, \"odd numbers found. They are:\", odd_numbers)"
   ]
  },
  {
   "cell_type": "code",
   "execution_count": 32,
   "id": "7b0733de-cd86-47d7-ab3d-bea1146fc436",
   "metadata": {},
   "outputs": [
    {
     "name": "stdout",
     "output_type": "stream",
     "text": [
      "5 even numbers found. They are: [2, 10, 200, 300, 400]\n",
      "5 odd numbers found. They are: [1, 7, 3, 101, 2001]\n"
     ]
    }
   ],
   "source": [
    "numbers = [1, 7, 2, 3, 10, 101, 200, 300, 400, 2001]\n",
    "even_numbers = []\n",
    "odd_numbers = []\n",
    "\n",
    "# Write your loop here\n",
    "for n in numbers :\n",
    "    if n%2==0:\n",
    "        even_numbers.append(n)\n",
    "    elif n%2==1:\n",
    "        odd_numbers.append(n)\n",
    "\n",
    "even_count=len(even_numbers)\n",
    "odd_count=len(odd_numbers)\n",
    "\n",
    "print(even_count, \"even numbers found. They are:\", even_numbers)\n",
    "print(odd_count, \"odd numbers found. They are:\", odd_numbers)"
   ]
  },
  {
   "cell_type": "markdown",
   "id": "ec338ea7-7dff-4dc9-b24c-13f9ca4e5f19",
   "metadata": {},
   "source": [
    "## Problem 32.5:\n",
    "\n",
    "In the cell below try to write a general rule for sorting things into subsets."
   ]
  },
  {
   "cell_type": "markdown",
   "id": "c0d64a8f-a252-4f9c-a370-ff82110b134a",
   "metadata": {},
   "source": [
    "**Your answer here:**\n",
    "First, create empty lists for each sorting category.\n",
    "Then, create a loop to iterate through each item in the main list, checking if each item matches the conditions for each category, and append items to category lists according to the conditions\n"
   ]
  },
  {
   "cell_type": "markdown",
   "id": "0319f1cd-450e-49e0-a759-04ef13d4c5a4",
   "metadata": {},
   "source": [
    "## Problem 33:\n",
    "\n",
    "You can use `in` to see if a letter is contained within a string of letters. For example `'z' in 'aeiou'` is `False` but `'e' in 'aeiou'` is `True`. Write a loop in the cell below to count and report the number of vowls (i.e. the letters a, e, i, o or u) in the string provided. Does your code handle upper case letters too?"
   ]
  },
  {
   "cell_type": "code",
   "execution_count": 33,
   "id": "cb63ccbb-402b-45c3-a739-ea12bfd2e39c",
   "metadata": {},
   "outputs": [
    {
     "name": "stdout",
     "output_type": "stream",
     "text": [
      "14 vowls found. These are: ['e', 'u', 'i', 'o', 'o', 'u', 'e', 'o', 'e', 'e', 'a', 'o', 'i', 'i']\n"
     ]
    }
   ],
   "source": [
    "string = \"The quick brown fox jumped over the lazy dog. Or did it?\"\n",
    "\n",
    "# Write your loop below\n",
    "num_vowls=0\n",
    "vowls=[]\n",
    "\n",
    "for character in string:\n",
    "    if character in 'aeiou':\n",
    "        num_vowls+=1\n",
    "        vowls.append(character) \n",
    "        \n",
    "print(num_vowls, \"vowls found. These are:\", vowls)\n",
    "#uppercase letter omitted "
   ]
  },
  {
   "cell_type": "code",
   "execution_count": 35,
   "id": "1216397e-28c3-4616-a4b1-52a868c1ee38",
   "metadata": {},
   "outputs": [
    {
     "name": "stdout",
     "output_type": "stream",
     "text": [
      "15 vowls found. These are: ['e', 'u', 'i', 'o', 'o', 'u', 'e', 'o', 'e', 'e', 'a', 'o', 'O', 'i', 'i']\n"
     ]
    }
   ],
   "source": [
    "string = \"The quick brown fox jumped over the lazy dog. Or did it?\"\n",
    "\n",
    "# Write your loop below\n",
    "num_vowls=0\n",
    "vowls=[]\n",
    "\n",
    "for character in string:\n",
    "    if character in 'AEIOUaeiou':    #or if character.lower() in 'aeiou'\n",
    "        num_vowls+=1\n",
    "        vowls.append(character) \n",
    "        \n",
    "print(num_vowls, \"vowls found. These are:\", vowls)"
   ]
  },
  {
   "cell_type": "markdown",
   "id": "1b6fd7b1-d032-45fd-9f0d-bbf1ed9e98cd",
   "metadata": {},
   "source": [
    "# Dictionaries\n",
    "\n",
    "You have already seen several \"collection\" types in python such as lists and strings. These\n",
    "all contains collections of values. These are normally numbers for arrays, letters for strings, and anything (including other lists) for lists. Remember that lists are accessed by an index, which is an integer number in\n",
    "square brackets, and we start counting from zero. In the last few problems you will learn a little about a new\n",
    "collection called a dictionary. "
   ]
  },
  {
   "cell_type": "markdown",
   "id": "dfde9ec3-4ce9-4c9f-911c-ea7d8784e4b3",
   "metadata": {},
   "source": [
    "## Problem 34:\n",
    "\n",
    "In order to remind yourself how lists work, use the cell below to create a list contaning the numbers 2, 3, 5, 7, 22 and 776 (in that order) and print the 2nd and 4th item in the list (remember the index of the first item is not 1)."
   ]
  },
  {
   "cell_type": "code",
   "execution_count": 39,
   "id": "26e7766b-480a-4c65-812d-e61b71ae6820",
   "metadata": {},
   "outputs": [
    {
     "name": "stdout",
     "output_type": "stream",
     "text": [
      "3 7\n"
     ]
    }
   ],
   "source": [
    "# Your code here\n",
    "list = [2, 3, 5, 7, 22, 776]\n",
    "print(list[1], list[3])\n"
   ]
  },
  {
   "cell_type": "markdown",
   "id": "9a5ee44b-446a-4fd2-89e1-9cf931c0f03b",
   "metadata": {},
   "source": [
    "## Problem 35:\n",
    "\n",
    "Dictionaries work like lists, but instead of using numbers to access elements, we normally use strings. Items in a dictionary have \"keys\" and \"values\". We can create a dictionary in place with curly brackets and access an element with square brackets as follows:\n",
    "```\n",
    "my_dict = {'first_name': 'Albert', 'last_name': 'Einstein', 'birthday': [1879, 3, 14]}\n",
    "print(my_dict['first_name'])\n",
    "```\n",
    "(notice that a dictionary can contain a list).\n",
    "\n",
    "Create a dictionary in the cell below to hold your name, then print out each item in turn."
   ]
  },
  {
   "cell_type": "code",
   "execution_count": 42,
   "id": "4def02ad-27fe-406a-8651-d18cc2bf3780",
   "metadata": {},
   "outputs": [
    {
     "name": "stdout",
     "output_type": "stream",
     "text": [
      "Amri\n",
      "Velayutham\n"
     ]
    }
   ],
   "source": [
    "# Your code here\n",
    "my_dict = {'first_name': 'Amri', 'second_name': 'Velayutham'}\n",
    "print(my_dict['first_name'])\n",
    "print(my_dict['second_name'])"
   ]
  },
  {
   "cell_type": "markdown",
   "id": "369a0e7a-1f5e-40bf-bc2a-0a2b12c2025a",
   "metadata": {},
   "source": [
    "## Problem 36:\n",
    "\n",
    "In is possible to loop through a dictionary using the same syntax as a loop over a list. In the cell below create a dictionary and a loop that visits each entry in the dictionary printing each loop iteration. What is printed, the keys or the values? "
   ]
  },
  {
   "cell_type": "code",
   "execution_count": 43,
   "id": "5846ac0b-49eb-45d4-95b5-da8f5096358e",
   "metadata": {},
   "outputs": [
    {
     "name": "stdout",
     "output_type": "stream",
     "text": [
      "breakfast\n",
      "lunch\n",
      "dinner\n"
     ]
    }
   ],
   "source": [
    "# Your code here\n",
    "my_dict = {\"breakfast\": \"apple\", \"lunch\": \"orange\", \"dinner\": \"banana\"}\n",
    "\n",
    "for n in my_dict:\n",
    "    print(n)\n"
   ]
  },
  {
   "cell_type": "markdown",
   "id": "b33c278d-3001-4f82-abfe-a7a11ae4586c",
   "metadata": {},
   "source": [
    "The keys are printed"
   ]
  },
  {
   "cell_type": "markdown",
   "id": "15289ec5-7391-4ec5-949f-5c929b3db86c",
   "metadata": {},
   "source": [
    "## Problem 37:\n",
    "\n",
    "In the next cell create a dictionary (e.g. `my_dict`) and three loops which loop over `my_dict.keys()`, `my_dict.values()` and `my_dict.items()`. What does each loop print?"
   ]
  },
  {
   "cell_type": "code",
   "execution_count": 50,
   "id": "2040ae90-a503-4864-9c73-35c43dd1fdbc",
   "metadata": {},
   "outputs": [
    {
     "name": "stdout",
     "output_type": "stream",
     "text": [
      "Keys: breakfast\n",
      "Keys: lunch\n",
      "Keys: dinner\n",
      "Values : apple\n",
      "Values : orange\n",
      "Values : banana\n",
      "Items ('breakfast', 'apple')\n",
      "Items ('lunch', 'orange')\n",
      "Items ('dinner', 'banana')\n"
     ]
    }
   ],
   "source": [
    "# Your code here\n",
    "for key in my_dict.keys():\n",
    "    print('Keys:',key)\n",
    "\n",
    "for value in my_dict.values():\n",
    "    print('Values :',value)\n",
    "\n",
    "for item in my_dict.items():\n",
    "    print('Items',item)"
   ]
  },
  {
   "cell_type": "markdown",
   "id": "9f76490e-504c-458d-9112-6f9cbbc2b86b",
   "metadata": {},
   "source": [
    "## Problem 38:\n",
    "\n",
    "Re-write your answer to problem 32.3 to but store the numbers in a list inside a dictionary. Can you see how this may be useful if you have many categories of data?"
   ]
  },
  {
   "cell_type": "code",
   "execution_count": 51,
   "id": "ec66aad1-a1a7-4592-8fb7-ffb3cbf11d4c",
   "metadata": {},
   "outputs": [
    {
     "name": "stdout",
     "output_type": "stream",
     "text": [
      "even numbers found are: [2, 10, 200, 300, 400]\n",
      "odd numbers found are: [1, 7, 3, 101, 2001]\n"
     ]
    }
   ],
   "source": [
    "#Problem 32.3\n",
    "numbers = [1, 7, 2, 3, 10, 101, 200, 300, 400, 2001]\n",
    "even_numbers = []\n",
    "odd_numbers = []\n",
    "\n",
    "# Write your loop here\n",
    "for n in numbers :\n",
    "    if n%2==0:\n",
    "        even_numbers.append(n)\n",
    "    elif n%2==1:\n",
    "        odd_numbers.append(n)\n",
    "print(\"even numbers found are:\", even_numbers)\n",
    "print(\"odd numbers found are:\", odd_numbers)"
   ]
  },
  {
   "cell_type": "code",
   "execution_count": 52,
   "id": "58ce1a85-f291-4d43-9ddf-ef71debd3264",
   "metadata": {},
   "outputs": [
    {
     "name": "stdout",
     "output_type": "stream",
     "text": [
      "even numbers found are: [2, 10, 200, 300, 400]\n",
      "odd numbers found are: [1, 7, 3, 101, 2001]\n"
     ]
    }
   ],
   "source": [
    "numbers = [1, 7, 2, 3, 10, 101, 200, 300, 400, 2001]\n",
    "sorted_numbers = {'evens': [], 'odds': []}  #the dictionary is called sorted_numbers, empty lists are in the dictionary \n",
    "\n",
    "# Write your loop here\n",
    "for n in numbers:\n",
    "    if n % 2 == 0:\n",
    "        sorted_numbers['evens'].append(n)\n",
    "    elif n%2==1:\n",
    "        sorted_numbers['odds'].append(n)\n",
    "\n",
    "print(\"even numbers found are:\", sorted_numbers['evens'])\n",
    "print(\"odd numbers found are:\", sorted_numbers['odds'])"
   ]
  },
  {
   "cell_type": "markdown",
   "id": "f305ad55-b537-407b-855b-01ccf6383428",
   "metadata": {},
   "source": [
    "It is easier to organise different categories of data in a dictionary "
   ]
  }
 ],
 "metadata": {
  "kernelspec": {
   "display_name": "Python 3 (ipykernel)",
   "language": "python",
   "name": "python3"
  },
  "language_info": {
   "codemirror_mode": {
    "name": "ipython",
    "version": 3
   },
   "file_extension": ".py",
   "mimetype": "text/x-python",
   "name": "python",
   "nbconvert_exporter": "python",
   "pygments_lexer": "ipython3",
   "version": "3.10.13"
  }
 },
 "nbformat": 4,
 "nbformat_minor": 5
}
